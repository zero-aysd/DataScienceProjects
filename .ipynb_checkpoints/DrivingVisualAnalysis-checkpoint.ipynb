{
 "cells": [
  {
   "cell_type": "markdown",
   "metadata": {},
   "source": [
    "#  Driving Visual Analysis with Automobile Data \n",
    "## 1984-2020"
   ]
  },
  {
   "cell_type": "markdown",
   "metadata": {},
   "source": [
    "### Introduction"
   ]
  },
  {
   "cell_type": "markdown",
   "metadata": {},
   "source": [
    "This dataset\n",
    "also contains numerous other features and attributes of the automobile models other than\n",
    "fuel economy, providing an opportunity to summarize and group the data so that we can\n",
    "identify interesting trends and relationships."
   ]
  },
  {
   "cell_type": "code",
   "execution_count": 35,
   "metadata": {},
   "outputs": [],
   "source": [
    "# imports\n",
    "\n",
    "# !pip install pandas --upgrade\n",
    "import pandas as pd\n",
    "from pandas import Timestamp\n",
    "import numpy as np\n",
    "import matplotlib.pyplot as plt\n",
    "%matplotlib inline\n",
    "import seaborn as sns\n",
    "from functools import *"
   ]
  },
  {
   "cell_type": "code",
   "execution_count": 36,
   "metadata": {},
   "outputs": [
    {
     "name": "stderr",
     "output_type": "stream",
     "text": [
      "/home/aayush/.local/lib/python3.6/site-packages/IPython/core/interactiveshell.py:3063: DtypeWarning: Columns (70,71,72,73,74,76,79) have mixed types.Specify dtype option on import or set low_memory=False.\n",
      "  interactivity=interactivity, compiler=compiler, result=result)\n"
     ]
    },
    {
     "data": {
      "text/html": [
       "<div>\n",
       "<style scoped>\n",
       "    .dataframe tbody tr th:only-of-type {\n",
       "        vertical-align: middle;\n",
       "    }\n",
       "\n",
       "    .dataframe tbody tr th {\n",
       "        vertical-align: top;\n",
       "    }\n",
       "\n",
       "    .dataframe thead th {\n",
       "        text-align: right;\n",
       "    }\n",
       "</style>\n",
       "<table border=\"1\" class=\"dataframe\">\n",
       "  <thead>\n",
       "    <tr style=\"text-align: right;\">\n",
       "      <th></th>\n",
       "      <th>barrels08</th>\n",
       "      <th>barrelsA08</th>\n",
       "      <th>charge120</th>\n",
       "      <th>charge240</th>\n",
       "      <th>city08</th>\n",
       "      <th>city08U</th>\n",
       "      <th>cityA08</th>\n",
       "      <th>cityA08U</th>\n",
       "      <th>cityCD</th>\n",
       "      <th>cityE</th>\n",
       "      <th>...</th>\n",
       "      <th>mfrCode</th>\n",
       "      <th>c240Dscr</th>\n",
       "      <th>charge240b</th>\n",
       "      <th>c240bDscr</th>\n",
       "      <th>createdOn</th>\n",
       "      <th>modifiedOn</th>\n",
       "      <th>startStop</th>\n",
       "      <th>phevCity</th>\n",
       "      <th>phevHwy</th>\n",
       "      <th>phevComb</th>\n",
       "    </tr>\n",
       "  </thead>\n",
       "  <tbody>\n",
       "    <tr>\n",
       "      <th>0</th>\n",
       "      <td>15.695714</td>\n",
       "      <td>0.0</td>\n",
       "      <td>0.0</td>\n",
       "      <td>0.0</td>\n",
       "      <td>19</td>\n",
       "      <td>0.0</td>\n",
       "      <td>0</td>\n",
       "      <td>0.0</td>\n",
       "      <td>0.0</td>\n",
       "      <td>0.0</td>\n",
       "      <td>...</td>\n",
       "      <td>NaN</td>\n",
       "      <td>NaN</td>\n",
       "      <td>0.0</td>\n",
       "      <td>NaN</td>\n",
       "      <td>Tue Jan 01 00:00:00 EST 2013</td>\n",
       "      <td>Tue Jan 01 00:00:00 EST 2013</td>\n",
       "      <td>NaN</td>\n",
       "      <td>0</td>\n",
       "      <td>0</td>\n",
       "      <td>0</td>\n",
       "    </tr>\n",
       "    <tr>\n",
       "      <th>1</th>\n",
       "      <td>29.964545</td>\n",
       "      <td>0.0</td>\n",
       "      <td>0.0</td>\n",
       "      <td>0.0</td>\n",
       "      <td>9</td>\n",
       "      <td>0.0</td>\n",
       "      <td>0</td>\n",
       "      <td>0.0</td>\n",
       "      <td>0.0</td>\n",
       "      <td>0.0</td>\n",
       "      <td>...</td>\n",
       "      <td>NaN</td>\n",
       "      <td>NaN</td>\n",
       "      <td>0.0</td>\n",
       "      <td>NaN</td>\n",
       "      <td>Tue Jan 01 00:00:00 EST 2013</td>\n",
       "      <td>Tue Jan 01 00:00:00 EST 2013</td>\n",
       "      <td>NaN</td>\n",
       "      <td>0</td>\n",
       "      <td>0</td>\n",
       "      <td>0</td>\n",
       "    </tr>\n",
       "    <tr>\n",
       "      <th>2</th>\n",
       "      <td>12.207778</td>\n",
       "      <td>0.0</td>\n",
       "      <td>0.0</td>\n",
       "      <td>0.0</td>\n",
       "      <td>23</td>\n",
       "      <td>0.0</td>\n",
       "      <td>0</td>\n",
       "      <td>0.0</td>\n",
       "      <td>0.0</td>\n",
       "      <td>0.0</td>\n",
       "      <td>...</td>\n",
       "      <td>NaN</td>\n",
       "      <td>NaN</td>\n",
       "      <td>0.0</td>\n",
       "      <td>NaN</td>\n",
       "      <td>Tue Jan 01 00:00:00 EST 2013</td>\n",
       "      <td>Tue Jan 01 00:00:00 EST 2013</td>\n",
       "      <td>NaN</td>\n",
       "      <td>0</td>\n",
       "      <td>0</td>\n",
       "      <td>0</td>\n",
       "    </tr>\n",
       "    <tr>\n",
       "      <th>3</th>\n",
       "      <td>29.964545</td>\n",
       "      <td>0.0</td>\n",
       "      <td>0.0</td>\n",
       "      <td>0.0</td>\n",
       "      <td>10</td>\n",
       "      <td>0.0</td>\n",
       "      <td>0</td>\n",
       "      <td>0.0</td>\n",
       "      <td>0.0</td>\n",
       "      <td>0.0</td>\n",
       "      <td>...</td>\n",
       "      <td>NaN</td>\n",
       "      <td>NaN</td>\n",
       "      <td>0.0</td>\n",
       "      <td>NaN</td>\n",
       "      <td>Tue Jan 01 00:00:00 EST 2013</td>\n",
       "      <td>Tue Jan 01 00:00:00 EST 2013</td>\n",
       "      <td>NaN</td>\n",
       "      <td>0</td>\n",
       "      <td>0</td>\n",
       "      <td>0</td>\n",
       "    </tr>\n",
       "    <tr>\n",
       "      <th>4</th>\n",
       "      <td>17.347895</td>\n",
       "      <td>0.0</td>\n",
       "      <td>0.0</td>\n",
       "      <td>0.0</td>\n",
       "      <td>17</td>\n",
       "      <td>0.0</td>\n",
       "      <td>0</td>\n",
       "      <td>0.0</td>\n",
       "      <td>0.0</td>\n",
       "      <td>0.0</td>\n",
       "      <td>...</td>\n",
       "      <td>NaN</td>\n",
       "      <td>NaN</td>\n",
       "      <td>0.0</td>\n",
       "      <td>NaN</td>\n",
       "      <td>Tue Jan 01 00:00:00 EST 2013</td>\n",
       "      <td>Tue Jan 01 00:00:00 EST 2013</td>\n",
       "      <td>NaN</td>\n",
       "      <td>0</td>\n",
       "      <td>0</td>\n",
       "      <td>0</td>\n",
       "    </tr>\n",
       "  </tbody>\n",
       "</table>\n",
       "<p>5 rows × 83 columns</p>\n",
       "</div>"
      ],
      "text/plain": [
       "   barrels08  barrelsA08  charge120  charge240  city08  city08U  cityA08  \\\n",
       "0  15.695714         0.0        0.0        0.0      19      0.0        0   \n",
       "1  29.964545         0.0        0.0        0.0       9      0.0        0   \n",
       "2  12.207778         0.0        0.0        0.0      23      0.0        0   \n",
       "3  29.964545         0.0        0.0        0.0      10      0.0        0   \n",
       "4  17.347895         0.0        0.0        0.0      17      0.0        0   \n",
       "\n",
       "   cityA08U  cityCD  cityE  ...  mfrCode  c240Dscr  charge240b  c240bDscr  \\\n",
       "0       0.0     0.0    0.0  ...      NaN       NaN         0.0        NaN   \n",
       "1       0.0     0.0    0.0  ...      NaN       NaN         0.0        NaN   \n",
       "2       0.0     0.0    0.0  ...      NaN       NaN         0.0        NaN   \n",
       "3       0.0     0.0    0.0  ...      NaN       NaN         0.0        NaN   \n",
       "4       0.0     0.0    0.0  ...      NaN       NaN         0.0        NaN   \n",
       "\n",
       "                      createdOn                    modifiedOn  startStop  \\\n",
       "0  Tue Jan 01 00:00:00 EST 2013  Tue Jan 01 00:00:00 EST 2013        NaN   \n",
       "1  Tue Jan 01 00:00:00 EST 2013  Tue Jan 01 00:00:00 EST 2013        NaN   \n",
       "2  Tue Jan 01 00:00:00 EST 2013  Tue Jan 01 00:00:00 EST 2013        NaN   \n",
       "3  Tue Jan 01 00:00:00 EST 2013  Tue Jan 01 00:00:00 EST 2013        NaN   \n",
       "4  Tue Jan 01 00:00:00 EST 2013  Tue Jan 01 00:00:00 EST 2013        NaN   \n",
       "\n",
       "   phevCity  phevHwy  phevComb  \n",
       "0         0        0         0  \n",
       "1         0        0         0  \n",
       "2         0        0         0  \n",
       "3         0        0         0  \n",
       "4         0        0         0  \n",
       "\n",
       "[5 rows x 83 columns]"
      ]
     },
     "execution_count": 36,
     "metadata": {},
     "output_type": "execute_result"
    }
   ],
   "source": [
    "# importing Dataset\n",
    "\n",
    "vehicles =  pd.read_csv('./vehicles.csv')\n",
    "vehicles.head()"
   ]
  },
  {
   "cell_type": "markdown",
   "metadata": {},
   "source": [
    "Columns 70,71,72,73,74,76,79 have mixed types\n",
    "Finding Corresponding names."
   ]
  },
  {
   "cell_type": "code",
   "execution_count": 37,
   "metadata": {},
   "outputs": [
    {
     "data": {
      "text/plain": [
       "array(['fuelType2', 'rangeA', 'evMotor', 'mfrCode', 'c240Dscr',\n",
       "       'c240bDscr', 'startStop'], dtype=object)"
      ]
     },
     "execution_count": 37,
     "metadata": {},
     "output_type": "execute_result"
    }
   ],
   "source": [
    "column_names = vehicles.columns.values\n",
    "column_names[[70,71,72,73,74,76,79]]"
   ]
  },
  {
   "cell_type": "code",
   "execution_count": 38,
   "metadata": {},
   "outputs": [
    {
     "data": {
      "text/plain": [
       "42771"
      ]
     },
     "execution_count": 38,
     "metadata": {},
     "output_type": "execute_result"
    }
   ],
   "source": [
    "# Number of Vehicles in our Dataset\n",
    "len(vehicles)"
   ]
  },
  {
   "cell_type": "code",
   "execution_count": 39,
   "metadata": {},
   "outputs": [
    {
     "data": {
      "text/plain": [
       "83"
      ]
     },
     "execution_count": 39,
     "metadata": {},
     "output_type": "execute_result"
    }
   ],
   "source": [
    "# Number of variables in the Dataset\n",
    "len(vehicles.columns)"
   ]
  },
  {
   "cell_type": "code",
   "execution_count": 40,
   "metadata": {},
   "outputs": [
    {
     "name": "stdout",
     "output_type": "stream",
     "text": [
      "Index(['barrels08', 'barrelsA08', 'charge120', 'charge240', 'city08',\n",
      "       'city08U', 'cityA08', 'cityA08U', 'cityCD', 'cityE', 'cityUF', 'co2',\n",
      "       'co2A', 'co2TailpipeAGpm', 'co2TailpipeGpm', 'comb08', 'comb08U',\n",
      "       'combA08', 'combA08U', 'combE', 'combinedCD', 'combinedUF', 'cylinders',\n",
      "       'displ', 'drive', 'engId', 'eng_dscr', 'feScore', 'fuelCost08',\n",
      "       'fuelCostA08', 'fuelType', 'fuelType1', 'ghgScore', 'ghgScoreA',\n",
      "       'highway08', 'highway08U', 'highwayA08', 'highwayA08U', 'highwayCD',\n",
      "       'highwayE', 'highwayUF', 'hlv', 'hpv', 'id', 'lv2', 'lv4', 'make',\n",
      "       'model', 'mpgData', 'phevBlended', 'pv2', 'pv4', 'range', 'rangeCity',\n",
      "       'rangeCityA', 'rangeHwy', 'rangeHwyA', 'trany', 'UCity', 'UCityA',\n",
      "       'UHighway', 'UHighwayA', 'VClass', 'year', 'youSaveSpend', 'guzzler',\n",
      "       'trans_dscr', 'tCharger', 'sCharger', 'atvType', 'fuelType2', 'rangeA',\n",
      "       'evMotor', 'mfrCode', 'c240Dscr', 'charge240b', 'c240bDscr',\n",
      "       'createdOn', 'modifiedOn', 'startStop', 'phevCity', 'phevHwy',\n",
      "       'phevComb'],\n",
      "      dtype='object')\n"
     ]
    }
   ],
   "source": [
    "# List of Names of Columns\n",
    "print(vehicles.columns)"
   ]
  },
  {
   "cell_type": "code",
   "execution_count": 41,
   "metadata": {},
   "outputs": [
    {
     "name": "stdout",
     "output_type": "stream",
     "text": [
      "Number of unique years 38, Starting from 1984 to 2021\n"
     ]
    }
   ],
   "source": [
    "# Unique years of data included in the Dataset\n",
    "\n",
    "print(\"Number of unique years {}, Starting from {} to {}\".format(\n",
    "    len(pd.unique(vehicles.year)),min(vehicles.year),max(vehicles.year)))\n"
   ]
  },
  {
   "cell_type": "code",
   "execution_count": 42,
   "metadata": {},
   "outputs": [
    {
     "data": {
      "text/plain": [
       "Regular Gasoline     28566\n",
       "Premium Gasoline     12590\n",
       "Diesel                1191\n",
       "Electricity            241\n",
       "Midgrade Gasoline      123\n",
       "Natural Gas             60\n",
       "Name: fuelType1, dtype: int64"
      ]
     },
     "execution_count": 42,
     "metadata": {},
     "output_type": "execute_result"
    }
   ],
   "source": [
    "# Type of Fuel used in the automobiles as primary fuel types\n",
    "\n",
    "pd.value_counts(vehicles.fuelType1)"
   ]
  },
  {
   "cell_type": "code",
   "execution_count": 43,
   "metadata": {},
   "outputs": [
    {
     "data": {
      "text/plain": [
       "A    29834\n",
       "M    12926\n",
       "Name: trany2, dtype: int64"
      ]
     },
     "execution_count": 43,
     "metadata": {},
     "output_type": "execute_result"
    }
   ],
   "source": [
    "# Types of Transmission of these automobiles\n",
    "\n",
    "vehicles['trany2'] =vehicles.trany.str[0] # stating transmission type\n",
    "pd.value_counts(vehicles.trany2)"
   ]
  },
  {
   "cell_type": "markdown",
   "metadata": {},
   "source": [
    "###  It can be concluded that there are more than twice  Automatic vehicles than Manual vehicles"
   ]
  },
  {
   "cell_type": "markdown",
   "metadata": {},
   "source": [
    "## Overall trend of miles/gallon over time"
   ]
  },
  {
   "cell_type": "code",
   "execution_count": 44,
   "metadata": {},
   "outputs": [
    {
     "data": {
      "text/html": [
       "<div>\n",
       "<style scoped>\n",
       "    .dataframe tbody tr th:only-of-type {\n",
       "        vertical-align: middle;\n",
       "    }\n",
       "\n",
       "    .dataframe tbody tr th {\n",
       "        vertical-align: top;\n",
       "    }\n",
       "\n",
       "    .dataframe thead th {\n",
       "        text-align: right;\n",
       "    }\n",
       "</style>\n",
       "<table border=\"1\" class=\"dataframe\">\n",
       "  <thead>\n",
       "    <tr style=\"text-align: right;\">\n",
       "      <th></th>\n",
       "      <th>barrels08</th>\n",
       "      <th>barrelsA08</th>\n",
       "      <th>charge120</th>\n",
       "      <th>charge240</th>\n",
       "      <th>city08</th>\n",
       "      <th>city08U</th>\n",
       "      <th>cityA08</th>\n",
       "      <th>cityA08U</th>\n",
       "      <th>cityCD</th>\n",
       "      <th>cityE</th>\n",
       "      <th>...</th>\n",
       "      <th>c240Dscr</th>\n",
       "      <th>charge240b</th>\n",
       "      <th>c240bDscr</th>\n",
       "      <th>createdOn</th>\n",
       "      <th>modifiedOn</th>\n",
       "      <th>startStop</th>\n",
       "      <th>phevCity</th>\n",
       "      <th>phevHwy</th>\n",
       "      <th>phevComb</th>\n",
       "      <th>trany2</th>\n",
       "    </tr>\n",
       "  </thead>\n",
       "  <tbody>\n",
       "    <tr>\n",
       "      <th>0</th>\n",
       "      <td>15.695714</td>\n",
       "      <td>0.0</td>\n",
       "      <td>0.0</td>\n",
       "      <td>0.0</td>\n",
       "      <td>19</td>\n",
       "      <td>0.0000</td>\n",
       "      <td>0</td>\n",
       "      <td>0.0</td>\n",
       "      <td>0.0</td>\n",
       "      <td>0.0</td>\n",
       "      <td>...</td>\n",
       "      <td>NaN</td>\n",
       "      <td>0.0</td>\n",
       "      <td>NaN</td>\n",
       "      <td>Tue Jan 01 00:00:00 EST 2013</td>\n",
       "      <td>Tue Jan 01 00:00:00 EST 2013</td>\n",
       "      <td>NaN</td>\n",
       "      <td>0</td>\n",
       "      <td>0</td>\n",
       "      <td>0</td>\n",
       "      <td>M</td>\n",
       "    </tr>\n",
       "    <tr>\n",
       "      <th>1</th>\n",
       "      <td>29.964545</td>\n",
       "      <td>0.0</td>\n",
       "      <td>0.0</td>\n",
       "      <td>0.0</td>\n",
       "      <td>9</td>\n",
       "      <td>0.0000</td>\n",
       "      <td>0</td>\n",
       "      <td>0.0</td>\n",
       "      <td>0.0</td>\n",
       "      <td>0.0</td>\n",
       "      <td>...</td>\n",
       "      <td>NaN</td>\n",
       "      <td>0.0</td>\n",
       "      <td>NaN</td>\n",
       "      <td>Tue Jan 01 00:00:00 EST 2013</td>\n",
       "      <td>Tue Jan 01 00:00:00 EST 2013</td>\n",
       "      <td>NaN</td>\n",
       "      <td>0</td>\n",
       "      <td>0</td>\n",
       "      <td>0</td>\n",
       "      <td>M</td>\n",
       "    </tr>\n",
       "    <tr>\n",
       "      <th>2</th>\n",
       "      <td>12.207778</td>\n",
       "      <td>0.0</td>\n",
       "      <td>0.0</td>\n",
       "      <td>0.0</td>\n",
       "      <td>23</td>\n",
       "      <td>0.0000</td>\n",
       "      <td>0</td>\n",
       "      <td>0.0</td>\n",
       "      <td>0.0</td>\n",
       "      <td>0.0</td>\n",
       "      <td>...</td>\n",
       "      <td>NaN</td>\n",
       "      <td>0.0</td>\n",
       "      <td>NaN</td>\n",
       "      <td>Tue Jan 01 00:00:00 EST 2013</td>\n",
       "      <td>Tue Jan 01 00:00:00 EST 2013</td>\n",
       "      <td>NaN</td>\n",
       "      <td>0</td>\n",
       "      <td>0</td>\n",
       "      <td>0</td>\n",
       "      <td>M</td>\n",
       "    </tr>\n",
       "    <tr>\n",
       "      <th>3</th>\n",
       "      <td>29.964545</td>\n",
       "      <td>0.0</td>\n",
       "      <td>0.0</td>\n",
       "      <td>0.0</td>\n",
       "      <td>10</td>\n",
       "      <td>0.0000</td>\n",
       "      <td>0</td>\n",
       "      <td>0.0</td>\n",
       "      <td>0.0</td>\n",
       "      <td>0.0</td>\n",
       "      <td>...</td>\n",
       "      <td>NaN</td>\n",
       "      <td>0.0</td>\n",
       "      <td>NaN</td>\n",
       "      <td>Tue Jan 01 00:00:00 EST 2013</td>\n",
       "      <td>Tue Jan 01 00:00:00 EST 2013</td>\n",
       "      <td>NaN</td>\n",
       "      <td>0</td>\n",
       "      <td>0</td>\n",
       "      <td>0</td>\n",
       "      <td>A</td>\n",
       "    </tr>\n",
       "    <tr>\n",
       "      <th>4</th>\n",
       "      <td>17.347895</td>\n",
       "      <td>0.0</td>\n",
       "      <td>0.0</td>\n",
       "      <td>0.0</td>\n",
       "      <td>17</td>\n",
       "      <td>0.0000</td>\n",
       "      <td>0</td>\n",
       "      <td>0.0</td>\n",
       "      <td>0.0</td>\n",
       "      <td>0.0</td>\n",
       "      <td>...</td>\n",
       "      <td>NaN</td>\n",
       "      <td>0.0</td>\n",
       "      <td>NaN</td>\n",
       "      <td>Tue Jan 01 00:00:00 EST 2013</td>\n",
       "      <td>Tue Jan 01 00:00:00 EST 2013</td>\n",
       "      <td>NaN</td>\n",
       "      <td>0</td>\n",
       "      <td>0</td>\n",
       "      <td>0</td>\n",
       "      <td>M</td>\n",
       "    </tr>\n",
       "    <tr>\n",
       "      <th>...</th>\n",
       "      <td>...</td>\n",
       "      <td>...</td>\n",
       "      <td>...</td>\n",
       "      <td>...</td>\n",
       "      <td>...</td>\n",
       "      <td>...</td>\n",
       "      <td>...</td>\n",
       "      <td>...</td>\n",
       "      <td>...</td>\n",
       "      <td>...</td>\n",
       "      <td>...</td>\n",
       "      <td>...</td>\n",
       "      <td>...</td>\n",
       "      <td>...</td>\n",
       "      <td>...</td>\n",
       "      <td>...</td>\n",
       "      <td>...</td>\n",
       "      <td>...</td>\n",
       "      <td>...</td>\n",
       "      <td>...</td>\n",
       "      <td>...</td>\n",
       "    </tr>\n",
       "    <tr>\n",
       "      <th>35648</th>\n",
       "      <td>11.365862</td>\n",
       "      <td>0.0</td>\n",
       "      <td>0.0</td>\n",
       "      <td>0.0</td>\n",
       "      <td>27</td>\n",
       "      <td>26.8552</td>\n",
       "      <td>0</td>\n",
       "      <td>0.0</td>\n",
       "      <td>0.0</td>\n",
       "      <td>0.0</td>\n",
       "      <td>...</td>\n",
       "      <td>NaN</td>\n",
       "      <td>0.0</td>\n",
       "      <td>NaN</td>\n",
       "      <td>Tue Jan 07 00:00:00 EST 2020</td>\n",
       "      <td>Tue Mar 24 00:00:00 EDT 2020</td>\n",
       "      <td>Y</td>\n",
       "      <td>0</td>\n",
       "      <td>0</td>\n",
       "      <td>0</td>\n",
       "      <td>A</td>\n",
       "    </tr>\n",
       "    <tr>\n",
       "      <th>35705</th>\n",
       "      <td>14.982273</td>\n",
       "      <td>0.0</td>\n",
       "      <td>0.0</td>\n",
       "      <td>0.0</td>\n",
       "      <td>19</td>\n",
       "      <td>19.0003</td>\n",
       "      <td>0</td>\n",
       "      <td>0.0</td>\n",
       "      <td>0.0</td>\n",
       "      <td>0.0</td>\n",
       "      <td>...</td>\n",
       "      <td>NaN</td>\n",
       "      <td>0.0</td>\n",
       "      <td>NaN</td>\n",
       "      <td>Tue Feb 25 00:00:00 EST 2020</td>\n",
       "      <td>Tue May 05 00:00:00 EDT 2020</td>\n",
       "      <td>Y</td>\n",
       "      <td>0</td>\n",
       "      <td>0</td>\n",
       "      <td>0</td>\n",
       "      <td>A</td>\n",
       "    </tr>\n",
       "    <tr>\n",
       "      <th>35706</th>\n",
       "      <td>14.982273</td>\n",
       "      <td>0.0</td>\n",
       "      <td>0.0</td>\n",
       "      <td>0.0</td>\n",
       "      <td>19</td>\n",
       "      <td>19.0003</td>\n",
       "      <td>0</td>\n",
       "      <td>0.0</td>\n",
       "      <td>0.0</td>\n",
       "      <td>0.0</td>\n",
       "      <td>...</td>\n",
       "      <td>NaN</td>\n",
       "      <td>0.0</td>\n",
       "      <td>NaN</td>\n",
       "      <td>Tue Feb 25 00:00:00 EST 2020</td>\n",
       "      <td>Tue May 05 00:00:00 EDT 2020</td>\n",
       "      <td>Y</td>\n",
       "      <td>0</td>\n",
       "      <td>0</td>\n",
       "      <td>0</td>\n",
       "      <td>A</td>\n",
       "    </tr>\n",
       "    <tr>\n",
       "      <th>37483</th>\n",
       "      <td>15.695714</td>\n",
       "      <td>0.0</td>\n",
       "      <td>0.0</td>\n",
       "      <td>0.0</td>\n",
       "      <td>19</td>\n",
       "      <td>0.0000</td>\n",
       "      <td>0</td>\n",
       "      <td>0.0</td>\n",
       "      <td>0.0</td>\n",
       "      <td>0.0</td>\n",
       "      <td>...</td>\n",
       "      <td>NaN</td>\n",
       "      <td>0.0</td>\n",
       "      <td>NaN</td>\n",
       "      <td>Tue Jan 01 00:00:00 EST 2013</td>\n",
       "      <td>Tue Jan 01 00:00:00 EST 2013</td>\n",
       "      <td>NaN</td>\n",
       "      <td>0</td>\n",
       "      <td>0</td>\n",
       "      <td>0</td>\n",
       "      <td>M</td>\n",
       "    </tr>\n",
       "    <tr>\n",
       "      <th>37485</th>\n",
       "      <td>14.982273</td>\n",
       "      <td>0.0</td>\n",
       "      <td>0.0</td>\n",
       "      <td>0.0</td>\n",
       "      <td>20</td>\n",
       "      <td>0.0000</td>\n",
       "      <td>0</td>\n",
       "      <td>0.0</td>\n",
       "      <td>0.0</td>\n",
       "      <td>0.0</td>\n",
       "      <td>...</td>\n",
       "      <td>NaN</td>\n",
       "      <td>0.0</td>\n",
       "      <td>NaN</td>\n",
       "      <td>Tue Jan 01 00:00:00 EST 2013</td>\n",
       "      <td>Tue Jan 01 00:00:00 EST 2013</td>\n",
       "      <td>NaN</td>\n",
       "      <td>0</td>\n",
       "      <td>0</td>\n",
       "      <td>0</td>\n",
       "      <td>M</td>\n",
       "    </tr>\n",
       "  </tbody>\n",
       "</table>\n",
       "<p>190 rows × 84 columns</p>\n",
       "</div>"
      ],
      "text/plain": [
       "       barrels08  barrelsA08  charge120  charge240  city08  city08U  cityA08  \\\n",
       "0      15.695714         0.0        0.0        0.0      19   0.0000        0   \n",
       "1      29.964545         0.0        0.0        0.0       9   0.0000        0   \n",
       "2      12.207778         0.0        0.0        0.0      23   0.0000        0   \n",
       "3      29.964545         0.0        0.0        0.0      10   0.0000        0   \n",
       "4      17.347895         0.0        0.0        0.0      17   0.0000        0   \n",
       "...          ...         ...        ...        ...     ...      ...      ...   \n",
       "35648  11.365862         0.0        0.0        0.0      27  26.8552        0   \n",
       "35705  14.982273         0.0        0.0        0.0      19  19.0003        0   \n",
       "35706  14.982273         0.0        0.0        0.0      19  19.0003        0   \n",
       "37483  15.695714         0.0        0.0        0.0      19   0.0000        0   \n",
       "37485  14.982273         0.0        0.0        0.0      20   0.0000        0   \n",
       "\n",
       "       cityA08U  cityCD  cityE  ...  c240Dscr  charge240b  c240bDscr  \\\n",
       "0           0.0     0.0    0.0  ...       NaN         0.0        NaN   \n",
       "1           0.0     0.0    0.0  ...       NaN         0.0        NaN   \n",
       "2           0.0     0.0    0.0  ...       NaN         0.0        NaN   \n",
       "3           0.0     0.0    0.0  ...       NaN         0.0        NaN   \n",
       "4           0.0     0.0    0.0  ...       NaN         0.0        NaN   \n",
       "...         ...     ...    ...  ...       ...         ...        ...   \n",
       "35648       0.0     0.0    0.0  ...       NaN         0.0        NaN   \n",
       "35705       0.0     0.0    0.0  ...       NaN         0.0        NaN   \n",
       "35706       0.0     0.0    0.0  ...       NaN         0.0        NaN   \n",
       "37483       0.0     0.0    0.0  ...       NaN         0.0        NaN   \n",
       "37485       0.0     0.0    0.0  ...       NaN         0.0        NaN   \n",
       "\n",
       "                          createdOn                    modifiedOn  startStop  \\\n",
       "0      Tue Jan 01 00:00:00 EST 2013  Tue Jan 01 00:00:00 EST 2013        NaN   \n",
       "1      Tue Jan 01 00:00:00 EST 2013  Tue Jan 01 00:00:00 EST 2013        NaN   \n",
       "2      Tue Jan 01 00:00:00 EST 2013  Tue Jan 01 00:00:00 EST 2013        NaN   \n",
       "3      Tue Jan 01 00:00:00 EST 2013  Tue Jan 01 00:00:00 EST 2013        NaN   \n",
       "4      Tue Jan 01 00:00:00 EST 2013  Tue Jan 01 00:00:00 EST 2013        NaN   \n",
       "...                             ...                           ...        ...   \n",
       "35648  Tue Jan 07 00:00:00 EST 2020  Tue Mar 24 00:00:00 EDT 2020          Y   \n",
       "35705  Tue Feb 25 00:00:00 EST 2020  Tue May 05 00:00:00 EDT 2020          Y   \n",
       "35706  Tue Feb 25 00:00:00 EST 2020  Tue May 05 00:00:00 EDT 2020          Y   \n",
       "37483  Tue Jan 01 00:00:00 EST 2013  Tue Jan 01 00:00:00 EST 2013        NaN   \n",
       "37485  Tue Jan 01 00:00:00 EST 2013  Tue Jan 01 00:00:00 EST 2013        NaN   \n",
       "\n",
       "       phevCity  phevHwy  phevComb  trany2  \n",
       "0             0        0         0       M  \n",
       "1             0        0         0       M  \n",
       "2             0        0         0       M  \n",
       "3             0        0         0       A  \n",
       "4             0        0         0       M  \n",
       "...         ...      ...       ...     ...  \n",
       "35648         0        0         0       A  \n",
       "35705         0        0         0       A  \n",
       "35706         0        0         0       A  \n",
       "37483         0        0         0       M  \n",
       "37485         0        0         0       M  \n",
       "\n",
       "[190 rows x 84 columns]"
      ]
     },
     "execution_count": 44,
     "metadata": {},
     "output_type": "execute_result"
    }
   ],
   "source": [
    "grouped = vehicles.groupby(\"year\")\n",
    "grouped.head()"
   ]
  },
  {
   "cell_type": "code",
   "execution_count": 45,
   "metadata": {},
   "outputs": [
    {
     "name": "stderr",
     "output_type": "stream",
     "text": [
      "/home/aayush/.local/lib/python3.6/site-packages/ipykernel_launcher.py:3: FutureWarning: Indexing with multiple keys (implicitly converted to a tuple of keys) will be deprecated, use a list instead.\n",
      "  This is separate from the ipykernel package so we can avoid doing imports until\n"
     ]
    }
   ],
   "source": [
    "#Computing mean of the mileages\n",
    "\n",
    "averaged = grouped['comb08', 'highway08', 'city08'].agg([np.mean])"
   ]
  },
  {
   "cell_type": "code",
   "execution_count": 46,
   "metadata": {},
   "outputs": [
    {
     "data": {
      "text/html": [
       "<div>\n",
       "<style scoped>\n",
       "    .dataframe tbody tr th:only-of-type {\n",
       "        vertical-align: middle;\n",
       "    }\n",
       "\n",
       "    .dataframe tbody tr th {\n",
       "        vertical-align: top;\n",
       "    }\n",
       "\n",
       "    .dataframe thead th {\n",
       "        text-align: right;\n",
       "    }\n",
       "</style>\n",
       "<table border=\"1\" class=\"dataframe\">\n",
       "  <thead>\n",
       "    <tr style=\"text-align: right;\">\n",
       "      <th></th>\n",
       "      <th>comb08_mean</th>\n",
       "      <th>highway08_mean</th>\n",
       "      <th>city08_mean</th>\n",
       "      <th>year</th>\n",
       "    </tr>\n",
       "    <tr>\n",
       "      <th>year</th>\n",
       "      <th></th>\n",
       "      <th></th>\n",
       "      <th></th>\n",
       "      <th></th>\n",
       "    </tr>\n",
       "  </thead>\n",
       "  <tbody>\n",
       "    <tr>\n",
       "      <th>1984</th>\n",
       "      <td>19.881874</td>\n",
       "      <td>23.075356</td>\n",
       "      <td>17.982688</td>\n",
       "      <td>1984</td>\n",
       "    </tr>\n",
       "    <tr>\n",
       "      <th>1985</th>\n",
       "      <td>19.808348</td>\n",
       "      <td>23.042328</td>\n",
       "      <td>17.878307</td>\n",
       "      <td>1985</td>\n",
       "    </tr>\n",
       "    <tr>\n",
       "      <th>1986</th>\n",
       "      <td>19.550413</td>\n",
       "      <td>22.699174</td>\n",
       "      <td>17.665289</td>\n",
       "      <td>1986</td>\n",
       "    </tr>\n",
       "    <tr>\n",
       "      <th>1987</th>\n",
       "      <td>19.228549</td>\n",
       "      <td>22.445068</td>\n",
       "      <td>17.310345</td>\n",
       "      <td>1987</td>\n",
       "    </tr>\n",
       "    <tr>\n",
       "      <th>1988</th>\n",
       "      <td>19.328319</td>\n",
       "      <td>22.702655</td>\n",
       "      <td>17.333628</td>\n",
       "      <td>1988</td>\n",
       "    </tr>\n",
       "  </tbody>\n",
       "</table>\n",
       "</div>"
      ],
      "text/plain": [
       "      comb08_mean  highway08_mean  city08_mean  year\n",
       "year                                                \n",
       "1984    19.881874       23.075356    17.982688  1984\n",
       "1985    19.808348       23.042328    17.878307  1985\n",
       "1986    19.550413       22.699174    17.665289  1986\n",
       "1987    19.228549       22.445068    17.310345  1987\n",
       "1988    19.328319       22.702655    17.333628  1988"
      ]
     },
     "execution_count": 46,
     "metadata": {},
     "output_type": "execute_result"
    }
   ],
   "source": [
    "#creating new columns for the averages\n",
    "\n",
    "averaged.columns = ['comb08_mean', 'highway08_mean', 'city08_mean'] #run this only ONCE!!!!\n",
    "averaged['year'] = averaged.index\n",
    "averaged.head()"
   ]
  },
  {
   "cell_type": "markdown",
   "metadata": {},
   "source": [
    "## Plotting Results"
   ]
  },
  {
   "cell_type": "code",
   "execution_count": 47,
   "metadata": {},
   "outputs": [
    {
     "data": {
      "image/png": "[encoded data removed]",
      "text/plain": [
       "<Figure size 432x288 with 1 Axes>"
      ]
     },
     "metadata": {
      "needs_background": "light"
     },
     "output_type": "display_data"
    }
   ],
   "source": [
    "plt.scatter(averaged.year,averaged.comb08_mean,color='steelblue')\n",
    "plt.xlabel('Years')\n",
    "plt.ylabel('Average MPG')\n",
    "plt.title('All Cars')\n",
    "sns.set_style(\"darkgrid\")\n",
    "plt.rcParams['font.size'] = 14\n",
    "plt.rcParams['figure.figsize'] = (9, 5)\n",
    "plt.rcParams['figure.facecolor'] = '#00000000'\n",
    "plt.show();"
   ]
  },
  {
   "cell_type": "markdown",
   "metadata": {},
   "source": [
    "This plot might be misleading as hybrid cars with excellent mileage have recently become more popular"
   ]
  },
  {
   "cell_type": "markdown",
   "metadata": {},
   "source": [
    "####  Screening out automobile makes"
   ]
  },
  {
   "cell_type": "markdown",
   "metadata": {},
   "source": [
    "## Removing Hybrid Cars For Better Results"
   ]
  },
  {
   "cell_type": "code",
   "execution_count": 48,
   "metadata": {},
   "outputs": [],
   "source": [
    "# creating arrays such that the fuel type is Regular Gasoline, Premium Gasoline and Midgrade Gasoline\n",
    "# making sure that ATV type is not Hybrid\n",
    "\n",
    "list_1 = vehicles.fuelType1.isin(['Regular Gasoline','Premium Gasoline', 'Midgrade Gasoline'])\n",
    "list_2 = vehicles.fuelType2.isnull() #checks fuel type 2 is null\n",
    "list_3 = vehicles.atvType != 'Hybrid'\n",
    "\n",
    "# Creating Boolean array for vehicles that are not hybrid\n",
    "\n",
    "vehicles_not_hybrid = vehicles[list_1 & list_2 & list_3]"
   ]
  },
  {
   "cell_type": "code",
   "execution_count": 49,
   "metadata": {},
   "outputs": [
    {
     "data": {
      "text/plain": [
       "38852"
      ]
     },
     "execution_count": 49,
     "metadata": {},
     "output_type": "execute_result"
    }
   ],
   "source": [
    "len(vehicles_not_hybrid)"
   ]
  },
  {
   "cell_type": "code",
   "execution_count": 50,
   "metadata": {},
   "outputs": [],
   "source": [
    "#Plotting Results\n",
    "\n",
    "new_grouped = vehicles_not_hybrid.groupby(['year'])\n",
    "new_averaged = new_grouped['comb08'].agg([np.mean])\n",
    "new_averaged = new_averaged.reset_index();"
   ]
  },
  {
   "cell_type": "code",
   "execution_count": 51,
   "metadata": {},
   "outputs": [
    {
     "data": {
      "text/plain": [
       "0     19.121622\n",
       "1     19.394686\n",
       "2     19.320457\n",
       "3     19.164568\n",
       "4     19.367607\n",
       "5     19.141964\n",
       "6     19.031459\n",
       "7     18.838060\n",
       "8     18.861566\n",
       "9     19.137383\n",
       "10    19.092632\n",
       "11    18.872591\n",
       "12    19.530962\n",
       "13    19.368000\n",
       "14    19.329545\n",
       "15    19.239759\n",
       "16    19.169345\n",
       "17    19.075058\n",
       "18    18.950270\n",
       "19    18.761711\n",
       "20    18.967339\n",
       "21    19.005510\n",
       "22    18.786398\n",
       "23    18.987512\n",
       "24    19.191781\n",
       "25    19.738095\n",
       "26    20.466736\n",
       "27    20.838219\n",
       "28    21.407328\n",
       "29    22.225668\n",
       "30    22.274691\n",
       "31    22.413858\n",
       "32    22.717087\n",
       "33    22.801075\n",
       "34    22.825672\n",
       "35    22.710387\n",
       "36    22.692382\n",
       "37    23.172764\n",
       "Name: mean, dtype: float64"
      ]
     },
     "execution_count": 51,
     "metadata": {},
     "output_type": "execute_result"
    }
   ],
   "source": [
    "new_averaged['mean']"
   ]
  },
  {
   "cell_type": "markdown",
   "metadata": {},
   "source": [
    "### Based on the preceding data there is still rise in the average miles per gallon even after eliminating hybrids.\n",
    "#### Checking if number of Cars with Large engines built is few which can explain this increase in average MPG."
   ]
  },
  {
   "cell_type": "code",
   "execution_count": 52,
   "metadata": {},
   "outputs": [
    {
     "data": {
      "text/plain": [
       "array([2. , 4.9, 2.2, 5.2, 1.8, 1.6, 2.3, 2.8, 4. , 5. , 3.3, 3.1, 3.8,\n",
       "       4.6, 3.4, 3. , 5.9, 2.5, 4.5, 6.8, 2.4, 2.9, 5.7, 4.3, 3.5, 5.8,\n",
       "       3.2, 4.2, 1.9, 2.6, 7.4, 3.9, 1.5, 1.3, 4.1, 8. , 6. , 3.6, 5.4,\n",
       "       5.6, 1. , 2.1, 1.2, 6.5, 2.7, 4.7, 5.5, 1.1, 5.3, 4.4, 3.7, 6.7,\n",
       "       4.8, 1.7, 6.2, 8.3, 1.4, 6.1, 7. , 8.4, 6.3, nan, 6.6, 6.4, 0.9])"
      ]
     },
     "execution_count": 52,
     "metadata": {},
     "output_type": "execute_result"
    }
   ],
   "source": [
    "pd.unique(vehicles_not_hybrid.displ)"
   ]
  },
  {
   "cell_type": "code",
   "execution_count": 53,
   "metadata": {},
   "outputs": [],
   "source": [
    "# There are some values which might not be numeric, including the 'nan' value. Removing these values\n",
    "list_4 = vehicles_not_hybrid.notnull()\n",
    "\n",
    "vehicles_not_hybrid = vehicles_not_hybrid[list_4]\n",
    "\n",
    "vehicles_not_hybrid.displ = vehicles_not_hybrid.displ.astype('float') #ensuring all values are floating point numbers"
   ]
  },
  {
   "cell_type": "code",
   "execution_count": 54,
   "metadata": {},
   "outputs": [],
   "source": [
    "# Similarly for Comb08_mean\n",
    "list_5  = vehicles_not_hybrid.comb08.notnull()\n",
    "vehicles_not_hybrid = vehicles_not_hybrid[list_5]\n",
    "vehicles_not_hybrid.comb08 = vehicles_not_hybrid.comb08.astype('float')"
   ]
  },
  {
   "cell_type": "code",
   "execution_count": 55,
   "metadata": {},
   "outputs": [
    {
     "data": {
      "image/png": "[encoded data removed]",
      "text/plain": [
       "<Figure size 648x360 with 1 Axes>"
      ]
     },
     "metadata": {
      "needs_background": "light"
     },
     "output_type": "display_data"
    }
   ],
   "source": [
    "#Plotting results\n",
    "\n",
    "plt.scatter(vehicles_not_hybrid.displ, vehicles_not_hybrid.comb08)\n",
    "plt.xlabel('Engine Displacement')\n",
    "plt.ylabel('Average MPG')\n",
    "plt.title('Gasoline Cars')\n",
    "sns.set_style('darkgrid')\n",
    "plt.rcParams['font.size'] = 14\n",
    "plt.rcParams['figure.figsize'] = (10, 10)\n",
    "plt.rcParams['figure.facecolor'] = '#00000000'\n",
    "plt.xlim(0,10)\n",
    "plt.ylim(0,60)\n",
    "plt.show();"
   ]
  },
  {
   "cell_type": "markdown",
   "metadata": {},
   "source": [
    "## This confirms negative relationship between Average and Engine Displacement"
   ]
  },
  {
   "cell_type": "markdown",
   "metadata": {},
   "source": [
    "#### Now checking if fewer cars with large engines were made in later years."
   ]
  },
  {
   "cell_type": "code",
   "execution_count": 56,
   "metadata": {},
   "outputs": [],
   "source": [
    "#checking smaller cars were made in later years\n",
    "\n",
    "grouped_by_year = vehicles_not_hybrid.groupby(['year'])"
   ]
  },
  {
   "cell_type": "code",
   "execution_count": 57,
   "metadata": {},
   "outputs": [
    {
     "name": "stderr",
     "output_type": "stream",
     "text": [
      "/home/aayush/.local/lib/python3.6/site-packages/ipykernel_launcher.py:1: FutureWarning: Indexing with multiple keys (implicitly converted to a tuple of keys) will be deprecated, use a list instead.\n",
      "  \"\"\"Entry point for launching an IPython kernel.\n"
     ]
    }
   ],
   "source": [
    "avg_grouped_by_year = grouped_by_year['displ','comb08'].agg([np.mean])"
   ]
  },
  {
   "cell_type": "code",
   "execution_count": 58,
   "metadata": {},
   "outputs": [],
   "source": [
    "# plotting both avg displ value and comb08 value against year\n",
    "\n",
    "avg_grouped_by_year['year'] = avg_grouped_by_year.index"
   ]
  },
  {
   "cell_type": "code",
   "execution_count": 59,
   "metadata": {},
   "outputs": [],
   "source": [
    "melted_average_grouped_by_year = pd.melt(avg_grouped_by_year, id_vars='year') \n",
    "# Unpivot the DataFrame from wide to long format\n"
   ]
  },
  {
   "cell_type": "code",
   "execution_count": 60,
   "metadata": {},
   "outputs": [
    {
     "data": {
      "image/png": "[encoded data removed]",
      "text/plain": [
       "<Figure size 720x720 with 1 Axes>"
      ]
     },
     "metadata": {
      "needs_background": "light"
     },
     "output_type": "display_data"
    },
    {
     "data": {
      "image/png": "[encoded data removed]",
      "text/plain": [
       "<Figure size 720x720 with 1 Axes>"
      ]
     },
     "metadata": {
      "needs_background": "light"
     },
     "output_type": "display_data"
    }
   ],
   "source": [
    "plt.subplot(2,1,1)\n",
    "plt.xlabel('year')\n",
    "plt.ylabel('displacement')\n",
    "plt.scatter(melted_average_grouped_by_year['year'].iloc[:38],melted_average_grouped_by_year['value'].iloc[:38],\n",
    "           color='grey')\n",
    "plt.xlim(1980,2025)\n",
    "plt.ylim(3.0,3.8);\n",
    "plt.show();\n",
    "\n",
    "plt.subplot(2,1,2)\n",
    "plt.scatter(melted_average_grouped_by_year['year'].iloc[39:], melted_average_grouped_by_year['value'].iloc[39:],\n",
    "           color='red')\n",
    "plt.xlabel('Years')\n",
    "plt.ylabel('Average MPG')\n",
    "plt.show();"
   ]
  },
  {
   "cell_type": "markdown",
   "metadata": {},
   "source": [
    "### From the preceding plots we conclude:\n",
    "    1) Engine sizes have generally increased till 2008, with sudden increase in large cars between 2006 and 2008\n",
    "    2) Since 2009 there has been decrease in average car size, which partially explains increase in fuel       \n",
    "       efficiency.\n",
    "    3) Until 2005, there was increase in average car size, but the fuel efficiency remained roughly constant.\n",
    "       It implies that ENGINE EFFICIENCY has INCREASED over the years.\n",
    "    4) The year 2006 - 2008 are interesting. Though the average engine size increased suddenly, the MPG\n",
    "       remained roughly constant. This seeming discrepancy might require more investigation!"
   ]
  },
  {
   "cell_type": "markdown",
   "metadata": {},
   "source": [
    "##  Comparing Makes and Models of Automobiles "
   ]
  },
  {
   "cell_type": "code",
   "execution_count": 61,
   "metadata": {},
   "outputs": [],
   "source": [
    "# As majority of cars have 4-cylinder engines, concentrating on cars with a 4 cylinder engine\n",
    "\n",
    "pd.unique(vehicles_not_hybrid.cylinders)\n",
    "# converting all data types to float and dropping nan\n",
    "vehicles_not_hybrid.cylinders = vehicles_not_hybrid.cylinders.astype('float')\n",
    "\n",
    "vehicles_not_hybrid_4cyl = vehicles_not_hybrid[vehicles_not_hybrid.cylinders == 4]"
   ]
  },
  {
   "cell_type": "code",
   "execution_count": 62,
   "metadata": {},
   "outputs": [
    {
     "data": {
      "image/png": "[encoded data removed]",
      "text/plain": [
       "<Figure size 720x720 with 1 Axes>"
      ]
     },
     "metadata": {
      "needs_background": "light"
     },
     "output_type": "display_data"
    }
   ],
   "source": [
    "grouped_by_year_4cyl = vehicles_not_hybrid.groupby(['year']).make.nunique()\n",
    "grouped_by_year_4cyl.plot()\n",
    "sns.set_style('darkgrid')\n",
    "plt.xlabel('Year')\n",
    "plt.ylabel('Number of 4-Cylinder Makes')\n",
    "plt.show()\n"
   ]
  },
  {
   "cell_type": "markdown",
   "metadata": {},
   "source": [
    "#### We can see in the preceding graph that there has been a decline in the number of makes with 4-cylinder engines available since 1980. However, as a caveat, this plot could be misleading, as we do not know if the total number of available makes per year has changed over the same period of time."
   ]
  },
  {
   "cell_type": "markdown",
   "metadata": {},
   "source": [
    "### We find there are only 8 manufactures that made four-cylinder cars every year during this peroid. We also find that most manufacturers have shown improvement over this time, though several manufacturers have demonstrated quite sharp fuel efficiency increases in the last 5 years"
   ]
  },
  {
   "cell_type": "markdown",
   "metadata": {},
   "source": [
    "###### we want to find a list of the automobile makes with 4-cylinder engines that were present in every year of this study."
   ]
  },
  {
   "cell_type": "code",
   "execution_count": 63,
   "metadata": {},
   "outputs": [],
   "source": [
    "grouped_by_year_4cyl = vehicles_not_hybrid_4cyl.groupby(['year'])\n",
    "\n",
    "#finding unique makes present in every year\n",
    "\n",
    "unique_makes = []\n",
    "\n",
    "for name, group in grouped_by_year_4cyl:\n",
    "    unique_makes.append(set(pd.unique(group['make'])))"
   ]
  },
  {
   "cell_type": "code",
   "execution_count": 64,
   "metadata": {},
   "outputs": [],
   "source": [
    "unique_makes = reduce(set.intersection, unique_makes)"
   ]
  },
  {
   "cell_type": "code",
   "execution_count": 65,
   "metadata": {},
   "outputs": [
    {
     "name": "stdout",
     "output_type": "stream",
     "text": [
      "The number of car manufacturers that make 4 cylinder cars every year is 8\n",
      "{'Ford', 'Toyota', 'Honda', 'Chevrolet', 'Volkswagen', 'Subaru', 'Mazda', 'Jeep'}\n"
     ]
    }
   ],
   "source": [
    "print('The number of car manufacturers that make 4 cylinder cars every year is {}'.format(len(unique_makes)))\n",
    "print(unique_makes)"
   ]
  },
  {
   "cell_type": "code",
   "execution_count": 66,
   "metadata": {},
   "outputs": [],
   "source": [
    "# Finding how models of these manufacturers have performed\n",
    "\n",
    "boolean_mask = []\n",
    "for index, row in vehicles_not_hybrid_4cyl.iterrows():\n",
    "    make = row['make']\n",
    "    boolean_mask.append(make in unique_makes)\n",
    "    \n",
    "df_common_makes = vehicles_not_hybrid_4cyl[boolean_mask]"
   ]
  },
  {
   "cell_type": "code",
   "execution_count": 67,
   "metadata": {},
   "outputs": [
    {
     "data": {
      "text/html": [
       "<div>\n",
       "<style scoped>\n",
       "    .dataframe tbody tr th:only-of-type {\n",
       "        vertical-align: middle;\n",
       "    }\n",
       "\n",
       "    .dataframe tbody tr th {\n",
       "        vertical-align: top;\n",
       "    }\n",
       "\n",
       "    .dataframe thead tr th {\n",
       "        text-align: left;\n",
       "    }\n",
       "</style>\n",
       "<table border=\"1\" class=\"dataframe\">\n",
       "  <thead>\n",
       "    <tr>\n",
       "      <th></th>\n",
       "      <th>year</th>\n",
       "      <th>make</th>\n",
       "      <th>barrels08</th>\n",
       "      <th>barrelsA08</th>\n",
       "      <th>charge120</th>\n",
       "      <th>charge240</th>\n",
       "      <th>city08</th>\n",
       "      <th>city08U</th>\n",
       "      <th>cityA08</th>\n",
       "      <th>cityA08U</th>\n",
       "      <th>...</th>\n",
       "      <th>rangeHwyA</th>\n",
       "      <th>UCity</th>\n",
       "      <th>UCityA</th>\n",
       "      <th>UHighway</th>\n",
       "      <th>UHighwayA</th>\n",
       "      <th>youSaveSpend</th>\n",
       "      <th>charge240b</th>\n",
       "      <th>phevCity</th>\n",
       "      <th>phevHwy</th>\n",
       "      <th>phevComb</th>\n",
       "    </tr>\n",
       "    <tr>\n",
       "      <th></th>\n",
       "      <th></th>\n",
       "      <th></th>\n",
       "      <th>mean</th>\n",
       "      <th>mean</th>\n",
       "      <th>mean</th>\n",
       "      <th>mean</th>\n",
       "      <th>mean</th>\n",
       "      <th>mean</th>\n",
       "      <th>mean</th>\n",
       "      <th>mean</th>\n",
       "      <th>...</th>\n",
       "      <th>mean</th>\n",
       "      <th>mean</th>\n",
       "      <th>mean</th>\n",
       "      <th>mean</th>\n",
       "      <th>mean</th>\n",
       "      <th>mean</th>\n",
       "      <th>mean</th>\n",
       "      <th>mean</th>\n",
       "      <th>mean</th>\n",
       "      <th>mean</th>\n",
       "    </tr>\n",
       "  </thead>\n",
       "  <tbody>\n",
       "    <tr>\n",
       "      <th>0</th>\n",
       "      <td>1984</td>\n",
       "      <td>Chevrolet</td>\n",
       "      <td>14.573295</td>\n",
       "      <td>0.0</td>\n",
       "      <td>0.0</td>\n",
       "      <td>0.0</td>\n",
       "      <td>20.031250</td>\n",
       "      <td>0.000000</td>\n",
       "      <td>0</td>\n",
       "      <td>0.0</td>\n",
       "      <td>...</td>\n",
       "      <td>0.0</td>\n",
       "      <td>25.328125</td>\n",
       "      <td>0.0</td>\n",
       "      <td>38.234375</td>\n",
       "      <td>0.0</td>\n",
       "      <td>-1210.937500</td>\n",
       "      <td>0.0</td>\n",
       "      <td>0</td>\n",
       "      <td>0</td>\n",
       "      <td>0</td>\n",
       "    </tr>\n",
       "    <tr>\n",
       "      <th>1</th>\n",
       "      <td>1984</td>\n",
       "      <td>Ford</td>\n",
       "      <td>15.112954</td>\n",
       "      <td>0.0</td>\n",
       "      <td>0.0</td>\n",
       "      <td>0.0</td>\n",
       "      <td>19.863636</td>\n",
       "      <td>0.000000</td>\n",
       "      <td>0</td>\n",
       "      <td>0.0</td>\n",
       "      <td>...</td>\n",
       "      <td>0.0</td>\n",
       "      <td>25.075758</td>\n",
       "      <td>0.0</td>\n",
       "      <td>36.333333</td>\n",
       "      <td>0.0</td>\n",
       "      <td>-1439.393939</td>\n",
       "      <td>0.0</td>\n",
       "      <td>0</td>\n",
       "      <td>0</td>\n",
       "      <td>0</td>\n",
       "    </tr>\n",
       "    <tr>\n",
       "      <th>2</th>\n",
       "      <td>1984</td>\n",
       "      <td>Honda</td>\n",
       "      <td>12.012900</td>\n",
       "      <td>0.0</td>\n",
       "      <td>0.0</td>\n",
       "      <td>0.0</td>\n",
       "      <td>25.708333</td>\n",
       "      <td>0.000000</td>\n",
       "      <td>0</td>\n",
       "      <td>0.0</td>\n",
       "      <td>...</td>\n",
       "      <td>0.0</td>\n",
       "      <td>33.250000</td>\n",
       "      <td>0.0</td>\n",
       "      <td>44.833333</td>\n",
       "      <td>0.0</td>\n",
       "      <td>52.083333</td>\n",
       "      <td>0.0</td>\n",
       "      <td>0</td>\n",
       "      <td>0</td>\n",
       "      <td>0</td>\n",
       "    </tr>\n",
       "    <tr>\n",
       "      <th>3</th>\n",
       "      <td>1984</td>\n",
       "      <td>Jeep</td>\n",
       "      <td>16.310463</td>\n",
       "      <td>0.0</td>\n",
       "      <td>0.0</td>\n",
       "      <td>0.0</td>\n",
       "      <td>18.350000</td>\n",
       "      <td>0.000000</td>\n",
       "      <td>0</td>\n",
       "      <td>0.0</td>\n",
       "      <td>...</td>\n",
       "      <td>0.0</td>\n",
       "      <td>23.250000</td>\n",
       "      <td>0.0</td>\n",
       "      <td>31.200000</td>\n",
       "      <td>0.0</td>\n",
       "      <td>-2100.000000</td>\n",
       "      <td>0.0</td>\n",
       "      <td>0</td>\n",
       "      <td>0</td>\n",
       "      <td>0</td>\n",
       "    </tr>\n",
       "    <tr>\n",
       "      <th>4</th>\n",
       "      <td>1984</td>\n",
       "      <td>Mazda</td>\n",
       "      <td>13.890349</td>\n",
       "      <td>0.0</td>\n",
       "      <td>0.0</td>\n",
       "      <td>0.0</td>\n",
       "      <td>22.444444</td>\n",
       "      <td>0.000000</td>\n",
       "      <td>0</td>\n",
       "      <td>0.0</td>\n",
       "      <td>...</td>\n",
       "      <td>0.0</td>\n",
       "      <td>28.611111</td>\n",
       "      <td>0.0</td>\n",
       "      <td>37.500000</td>\n",
       "      <td>0.0</td>\n",
       "      <td>-847.222222</td>\n",
       "      <td>0.0</td>\n",
       "      <td>0</td>\n",
       "      <td>0</td>\n",
       "      <td>0</td>\n",
       "    </tr>\n",
       "    <tr>\n",
       "      <th>...</th>\n",
       "      <td>...</td>\n",
       "      <td>...</td>\n",
       "      <td>...</td>\n",
       "      <td>...</td>\n",
       "      <td>...</td>\n",
       "      <td>...</td>\n",
       "      <td>...</td>\n",
       "      <td>...</td>\n",
       "      <td>...</td>\n",
       "      <td>...</td>\n",
       "      <td>...</td>\n",
       "      <td>...</td>\n",
       "      <td>...</td>\n",
       "      <td>...</td>\n",
       "      <td>...</td>\n",
       "      <td>...</td>\n",
       "      <td>...</td>\n",
       "      <td>...</td>\n",
       "      <td>...</td>\n",
       "      <td>...</td>\n",
       "      <td>...</td>\n",
       "    </tr>\n",
       "    <tr>\n",
       "      <th>299</th>\n",
       "      <td>2021</td>\n",
       "      <td>Jeep</td>\n",
       "      <td>13.553977</td>\n",
       "      <td>0.0</td>\n",
       "      <td>0.0</td>\n",
       "      <td>0.0</td>\n",
       "      <td>21.769231</td>\n",
       "      <td>21.713023</td>\n",
       "      <td>0</td>\n",
       "      <td>0.0</td>\n",
       "      <td>...</td>\n",
       "      <td>0.0</td>\n",
       "      <td>27.730385</td>\n",
       "      <td>0.0</td>\n",
       "      <td>41.956638</td>\n",
       "      <td>0.0</td>\n",
       "      <td>-673.076923</td>\n",
       "      <td>0.0</td>\n",
       "      <td>0</td>\n",
       "      <td>0</td>\n",
       "      <td>0</td>\n",
       "    </tr>\n",
       "    <tr>\n",
       "      <th>300</th>\n",
       "      <td>2021</td>\n",
       "      <td>Mazda</td>\n",
       "      <td>11.880541</td>\n",
       "      <td>0.0</td>\n",
       "      <td>0.0</td>\n",
       "      <td>0.0</td>\n",
       "      <td>25.318182</td>\n",
       "      <td>25.312941</td>\n",
       "      <td>0</td>\n",
       "      <td>0.0</td>\n",
       "      <td>...</td>\n",
       "      <td>0.0</td>\n",
       "      <td>32.962550</td>\n",
       "      <td>0.0</td>\n",
       "      <td>46.959155</td>\n",
       "      <td>0.0</td>\n",
       "      <td>136.363636</td>\n",
       "      <td>0.0</td>\n",
       "      <td>0</td>\n",
       "      <td>0</td>\n",
       "      <td>0</td>\n",
       "    </tr>\n",
       "    <tr>\n",
       "      <th>301</th>\n",
       "      <td>2021</td>\n",
       "      <td>Subaru</td>\n",
       "      <td>12.052948</td>\n",
       "      <td>0.0</td>\n",
       "      <td>0.0</td>\n",
       "      <td>0.0</td>\n",
       "      <td>24.882353</td>\n",
       "      <td>24.880806</td>\n",
       "      <td>0</td>\n",
       "      <td>0.0</td>\n",
       "      <td>...</td>\n",
       "      <td>0.0</td>\n",
       "      <td>32.179353</td>\n",
       "      <td>0.0</td>\n",
       "      <td>46.431212</td>\n",
       "      <td>0.0</td>\n",
       "      <td>14.705882</td>\n",
       "      <td>0.0</td>\n",
       "      <td>0</td>\n",
       "      <td>0</td>\n",
       "      <td>0</td>\n",
       "    </tr>\n",
       "    <tr>\n",
       "      <th>302</th>\n",
       "      <td>2021</td>\n",
       "      <td>Toyota</td>\n",
       "      <td>11.248004</td>\n",
       "      <td>0.0</td>\n",
       "      <td>0.0</td>\n",
       "      <td>0.0</td>\n",
       "      <td>27.200000</td>\n",
       "      <td>27.042360</td>\n",
       "      <td>0</td>\n",
       "      <td>0.0</td>\n",
       "      <td>...</td>\n",
       "      <td>0.0</td>\n",
       "      <td>35.383365</td>\n",
       "      <td>0.0</td>\n",
       "      <td>50.511685</td>\n",
       "      <td>0.0</td>\n",
       "      <td>325.000000</td>\n",
       "      <td>0.0</td>\n",
       "      <td>0</td>\n",
       "      <td>0</td>\n",
       "      <td>0</td>\n",
       "    </tr>\n",
       "    <tr>\n",
       "      <th>303</th>\n",
       "      <td>2021</td>\n",
       "      <td>Volkswagen</td>\n",
       "      <td>13.939459</td>\n",
       "      <td>0.0</td>\n",
       "      <td>0.0</td>\n",
       "      <td>0.0</td>\n",
       "      <td>21.500000</td>\n",
       "      <td>21.538450</td>\n",
       "      <td>0</td>\n",
       "      <td>0.0</td>\n",
       "      <td>...</td>\n",
       "      <td>0.0</td>\n",
       "      <td>27.233333</td>\n",
       "      <td>0.0</td>\n",
       "      <td>39.733333</td>\n",
       "      <td>0.0</td>\n",
       "      <td>-916.666667</td>\n",
       "      <td>0.0</td>\n",
       "      <td>0</td>\n",
       "      <td>0</td>\n",
       "      <td>0</td>\n",
       "    </tr>\n",
       "  </tbody>\n",
       "</table>\n",
       "<p>304 rows × 61 columns</p>\n",
       "</div>"
      ],
      "text/plain": [
       "     year        make  barrels08 barrelsA08 charge120 charge240     city08  \\\n",
       "                            mean       mean      mean      mean       mean   \n",
       "0    1984   Chevrolet  14.573295        0.0       0.0       0.0  20.031250   \n",
       "1    1984        Ford  15.112954        0.0       0.0       0.0  19.863636   \n",
       "2    1984       Honda  12.012900        0.0       0.0       0.0  25.708333   \n",
       "3    1984        Jeep  16.310463        0.0       0.0       0.0  18.350000   \n",
       "4    1984       Mazda  13.890349        0.0       0.0       0.0  22.444444   \n",
       "..    ...         ...        ...        ...       ...       ...        ...   \n",
       "299  2021        Jeep  13.553977        0.0       0.0       0.0  21.769231   \n",
       "300  2021       Mazda  11.880541        0.0       0.0       0.0  25.318182   \n",
       "301  2021      Subaru  12.052948        0.0       0.0       0.0  24.882353   \n",
       "302  2021      Toyota  11.248004        0.0       0.0       0.0  27.200000   \n",
       "303  2021  Volkswagen  13.939459        0.0       0.0       0.0  21.500000   \n",
       "\n",
       "       city08U cityA08 cityA08U  ... rangeHwyA      UCity UCityA   UHighway  \\\n",
       "          mean    mean     mean  ...      mean       mean   mean       mean   \n",
       "0     0.000000       0      0.0  ...       0.0  25.328125    0.0  38.234375   \n",
       "1     0.000000       0      0.0  ...       0.0  25.075758    0.0  36.333333   \n",
       "2     0.000000       0      0.0  ...       0.0  33.250000    0.0  44.833333   \n",
       "3     0.000000       0      0.0  ...       0.0  23.250000    0.0  31.200000   \n",
       "4     0.000000       0      0.0  ...       0.0  28.611111    0.0  37.500000   \n",
       "..         ...     ...      ...  ...       ...        ...    ...        ...   \n",
       "299  21.713023       0      0.0  ...       0.0  27.730385    0.0  41.956638   \n",
       "300  25.312941       0      0.0  ...       0.0  32.962550    0.0  46.959155   \n",
       "301  24.880806       0      0.0  ...       0.0  32.179353    0.0  46.431212   \n",
       "302  27.042360       0      0.0  ...       0.0  35.383365    0.0  50.511685   \n",
       "303  21.538450       0      0.0  ...       0.0  27.233333    0.0  39.733333   \n",
       "\n",
       "    UHighwayA youSaveSpend charge240b phevCity phevHwy phevComb  \n",
       "         mean         mean       mean     mean    mean     mean  \n",
       "0         0.0 -1210.937500        0.0        0       0        0  \n",
       "1         0.0 -1439.393939        0.0        0       0        0  \n",
       "2         0.0    52.083333        0.0        0       0        0  \n",
       "3         0.0 -2100.000000        0.0        0       0        0  \n",
       "4         0.0  -847.222222        0.0        0       0        0  \n",
       "..        ...          ...        ...      ...     ...      ...  \n",
       "299       0.0  -673.076923        0.0        0       0        0  \n",
       "300       0.0   136.363636        0.0        0       0        0  \n",
       "301       0.0    14.705882        0.0        0       0        0  \n",
       "302       0.0   325.000000        0.0        0       0        0  \n",
       "303       0.0  -916.666667        0.0        0       0        0  \n",
       "\n",
       "[304 rows x 61 columns]"
      ]
     },
     "execution_count": 67,
     "metadata": {},
     "output_type": "execute_result"
    }
   ],
   "source": [
    "# Grouping data by year and make and computing mean\n",
    "df_common_makes_grouped = df_common_makes.groupby(['year','make']).agg([np.mean]).reset_index();               \n",
    "df_common_makes_grouped"
   ]
  },
  {
   "cell_type": "code",
   "execution_count": 93,
   "metadata": {},
   "outputs": [
    {
     "data": {
      "image/png": "[encoded data removed]",
      "text/plain": [
       "<Figure size 648x648 with 8 Axes>"
      ]
     },
     "metadata": {},
     "output_type": "display_data"
    }
   ],
   "source": [
    "plot = sns.FacetGrid(df_common_makes_grouped, col='make', col_wrap=3);\n",
    "plot.map(sns.lineplot,'year','comb08')\n",
    "plot.set(xlim=(1980,2025), ylim=(15,35))\n",
    "plot.set_axis_labels('Year', 'Average MPG')\n",
    "plot.set_titles(col_template='{col_name}');\n",
    "sns.set_style('ticks')\n",
    "plt.show();"
   ]
  },
  {
   "cell_type": "code",
   "execution_count": null,
   "metadata": {},
   "outputs": [
    {
     "data": {
      "application/javascript": [
       "window.require && require([\"base/js/namespace\"],function(Jupyter){Jupyter.notebook.save_checkpoint()})"
      ],
      "text/plain": [
       "<IPython.core.display.Javascript object>"
      ]
     },
     "metadata": {},
     "output_type": "display_data"
    },
    {
     "name": "stdout",
     "output_type": "stream",
     "text": [
      "[jovian] Attempting to save notebook..\u001b[0m\n"
     ]
    }
   ],
   "source": [
    "import jovian\n",
    "\n",
    "jovian.commit()"
   ]
  }
 ],
 "metadata": {
  "kernelspec": {
   "display_name": "Python 3",
   "language": "python",
   "name": "python3"
  },
  "language_info": {
   "codemirror_mode": {
    "name": "ipython",
    "version": 3
   },
   "file_extension": ".py",
   "mimetype": "text/x-python",
   "name": "python",
   "nbconvert_exporter": "python",
   "pygments_lexer": "ipython3",
   "version": "3.6.9"
  }
 },
 "nbformat": 4,
 "nbformat_minor": 4
}
